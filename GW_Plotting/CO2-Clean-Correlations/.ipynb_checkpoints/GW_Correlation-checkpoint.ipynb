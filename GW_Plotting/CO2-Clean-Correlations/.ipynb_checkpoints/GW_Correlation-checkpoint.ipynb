{
 "cells": [
  {
   "cell_type": "markdown",
   "metadata": {},
   "source": [
    "### Countries with co2 data in 1850\n",
    "HUNGARY, \n",
    "CANADA,\n",
    "USSR,\n",
    "NORWAY,\n",
    "SWEDEN,\n",
    "DENMARK,\n",
    "IRELAND,\n",
    "SPAIN,\n",
    "AUSTRIA,\n",
    "NETHERLANDS,\n",
    "POLAND,\n",
    "BELGIUM,\n",
    "GERMANY,\n",
    "FRANCE,\n",
    "USA,\n",
    "UK\n"
   ]
  },
  {
   "cell_type": "code",
   "execution_count": 118,
   "metadata": {
    "collapsed": true
   },
   "outputs": [],
   "source": [
    "import pandas as pd\n",
    "import numpy as np\n",
    "import scipy as sp"
   ]
  },
  {
   "cell_type": "code",
   "execution_count": 119,
   "metadata": {},
   "outputs": [
    {
     "name": "stdout",
     "output_type": "stream",
     "text": [
      "<class 'pandas.core.frame.DataFrame'>\n",
      "RangeIndex: 17232 entries, 0 to 17231\n",
      "Data columns (total 3 columns):\n",
      "year       17232 non-null datetime64[ns]\n",
      "country    17232 non-null object\n",
      "co2        17232 non-null int64\n",
      "dtypes: datetime64[ns](1), int64(1), object(1)\n",
      "memory usage: 404.0+ KB\n"
     ]
    },
    {
     "data": {
      "text/html": [
       "<div>\n",
       "<style>\n",
       "    .dataframe thead tr:only-child th {\n",
       "        text-align: right;\n",
       "    }\n",
       "\n",
       "    .dataframe thead th {\n",
       "        text-align: left;\n",
       "    }\n",
       "\n",
       "    .dataframe tbody tr th {\n",
       "        vertical-align: top;\n",
       "    }\n",
       "</style>\n",
       "<table border=\"1\" class=\"dataframe\">\n",
       "  <thead>\n",
       "    <tr style=\"text-align: right;\">\n",
       "      <th></th>\n",
       "      <th>year</th>\n",
       "      <th>country</th>\n",
       "      <th>co2</th>\n",
       "    </tr>\n",
       "  </thead>\n",
       "  <tbody>\n",
       "    <tr>\n",
       "      <th>0</th>\n",
       "      <td>1751-01-01</td>\n",
       "      <td>UNITED KINGDOM</td>\n",
       "      <td>2552</td>\n",
       "    </tr>\n",
       "    <tr>\n",
       "      <th>1</th>\n",
       "      <td>1752-01-01</td>\n",
       "      <td>UNITED KINGDOM</td>\n",
       "      <td>2553</td>\n",
       "    </tr>\n",
       "    <tr>\n",
       "      <th>2</th>\n",
       "      <td>1753-01-01</td>\n",
       "      <td>UNITED KINGDOM</td>\n",
       "      <td>2553</td>\n",
       "    </tr>\n",
       "    <tr>\n",
       "      <th>3</th>\n",
       "      <td>1754-01-01</td>\n",
       "      <td>UNITED KINGDOM</td>\n",
       "      <td>2554</td>\n",
       "    </tr>\n",
       "    <tr>\n",
       "      <th>4</th>\n",
       "      <td>1755-01-01</td>\n",
       "      <td>UNITED KINGDOM</td>\n",
       "      <td>2555</td>\n",
       "    </tr>\n",
       "  </tbody>\n",
       "</table>\n",
       "</div>"
      ],
      "text/plain": [
       "        year         country   co2\n",
       "0 1751-01-01  UNITED KINGDOM  2552\n",
       "1 1752-01-01  UNITED KINGDOM  2553\n",
       "2 1753-01-01  UNITED KINGDOM  2553\n",
       "3 1754-01-01  UNITED KINGDOM  2554\n",
       "4 1755-01-01  UNITED KINGDOM  2555"
      ]
     },
     "execution_count": 119,
     "metadata": {},
     "output_type": "execute_result"
    }
   ],
   "source": [
    "# Store filepath in a variable: \n",
    "# parse_dates=[\"year\"] or dtype=object\n",
    "myCO2=\"myCO2.csv\"\n",
    "co2_df = pd.read_csv(myCO2,parse_dates=[\"year\"])\n",
    "co2_df.info()\n",
    "co2_df.head(5)"
   ]
  },
  {
   "cell_type": "code",
   "execution_count": 120,
   "metadata": {},
   "outputs": [],
   "source": [
    "# # convert co2 to a float\n",
    "# co2_df[\"co2\"] = co2_df[\"co2\"].astype(float)\n",
    "# co2_df.head(5)"
   ]
  },
  {
   "cell_type": "code",
   "execution_count": 121,
   "metadata": {},
   "outputs": [
    {
     "name": "stdout",
     "output_type": "stream",
     "text": [
      "<class 'pandas.core.frame.DataFrame'>\n",
      "RangeIndex: 45358 entries, 0 to 45357\n",
      "Data columns (total 5 columns):\n",
      "year                       45358 non-null datetime64[ns]\n",
      "country                    45358 non-null object\n",
      "avg_yly_tmp_f              45358 non-null float64\n",
      "avg_yly_tmp_c              45358 non-null float64\n",
      "avg_yly_tmp_uncertainty    45358 non-null float64\n",
      "dtypes: datetime64[ns](1), float64(3), object(1)\n",
      "memory usage: 1.7+ MB\n"
     ]
    }
   ],
   "source": [
    "# Store filepath in a variable: \n",
    "# parse_dates=[\"year\"] or dtype=object\n",
    "myTmps=\"myYearTempsF.csv\"\n",
    "tmps_df = pd.read_csv(myTmps,parse_dates=[\"year\"])\n",
    "tmps_df.info()"
   ]
  },
  {
   "cell_type": "code",
   "execution_count": 122,
   "metadata": {},
   "outputs": [
    {
     "name": "stdout",
     "output_type": "stream",
     "text": [
      "<class 'pandas.core.frame.DataFrame'>\n",
      "RangeIndex: 45358 entries, 0 to 45357\n",
      "Data columns (total 5 columns):\n",
      "year                       45358 non-null datetime64[ns]\n",
      "country                    45358 non-null object\n",
      "avg_yly_tmp_f              45358 non-null float64\n",
      "avg_yly_tmp_c              45358 non-null float64\n",
      "avg_yly_tmp_uncertainty    45358 non-null float64\n",
      "dtypes: datetime64[ns](1), float64(3), object(1)\n",
      "memory usage: 1.7+ MB\n"
     ]
    },
    {
     "data": {
      "text/html": [
       "<div>\n",
       "<style>\n",
       "    .dataframe thead tr:only-child th {\n",
       "        text-align: right;\n",
       "    }\n",
       "\n",
       "    .dataframe thead th {\n",
       "        text-align: left;\n",
       "    }\n",
       "\n",
       "    .dataframe tbody tr th {\n",
       "        vertical-align: top;\n",
       "    }\n",
       "</style>\n",
       "<table border=\"1\" class=\"dataframe\">\n",
       "  <thead>\n",
       "    <tr style=\"text-align: right;\">\n",
       "      <th></th>\n",
       "      <th>year</th>\n",
       "      <th>country</th>\n",
       "      <th>avg_yly_tmp_f</th>\n",
       "      <th>avg_yly_tmp_c</th>\n",
       "      <th>avg_yly_tmp_uncertainty</th>\n",
       "    </tr>\n",
       "  </thead>\n",
       "  <tbody>\n",
       "    <tr>\n",
       "      <th>0</th>\n",
       "      <td>1744-01-01</td>\n",
       "      <td>ALBANIA</td>\n",
       "      <td>57.311375</td>\n",
       "      <td>14.061875</td>\n",
       "      <td>2.243000</td>\n",
       "    </tr>\n",
       "    <tr>\n",
       "      <th>1</th>\n",
       "      <td>1744-01-01</td>\n",
       "      <td>ANDORRA</td>\n",
       "      <td>53.892950</td>\n",
       "      <td>12.162750</td>\n",
       "      <td>2.176625</td>\n",
       "    </tr>\n",
       "    <tr>\n",
       "      <th>2</th>\n",
       "      <td>1744-01-01</td>\n",
       "      <td>AUSTRIA</td>\n",
       "      <td>46.012550</td>\n",
       "      <td>7.784750</td>\n",
       "      <td>2.080250</td>\n",
       "    </tr>\n",
       "    <tr>\n",
       "      <th>3</th>\n",
       "      <td>1744-01-01</td>\n",
       "      <td>BELARUS</td>\n",
       "      <td>46.579325</td>\n",
       "      <td>8.099625</td>\n",
       "      <td>2.417750</td>\n",
       "    </tr>\n",
       "    <tr>\n",
       "      <th>4</th>\n",
       "      <td>1744-01-01</td>\n",
       "      <td>BELGIUM</td>\n",
       "      <td>51.225800</td>\n",
       "      <td>10.681000</td>\n",
       "      <td>1.846375</td>\n",
       "    </tr>\n",
       "  </tbody>\n",
       "</table>\n",
       "</div>"
      ],
      "text/plain": [
       "        year  country  avg_yly_tmp_f  avg_yly_tmp_c  avg_yly_tmp_uncertainty\n",
       "0 1744-01-01  ALBANIA      57.311375      14.061875                 2.243000\n",
       "1 1744-01-01  ANDORRA      53.892950      12.162750                 2.176625\n",
       "2 1744-01-01  AUSTRIA      46.012550       7.784750                 2.080250\n",
       "3 1744-01-01  BELARUS      46.579325       8.099625                 2.417750\n",
       "4 1744-01-01  BELGIUM      51.225800      10.681000                 1.846375"
      ]
     },
     "execution_count": 122,
     "metadata": {},
     "output_type": "execute_result"
    }
   ],
   "source": [
    "# convert temps to floats and country to upper case for merging\n",
    "# tmps_df[\"avg_yly_tmp_f\"]= tmps_df[\"avg_yly_tmp_f\"].astype(float)\n",
    "# tmps_df[\"avg_yly_tmp_c\"]= tmps_df[\"avg_yly_tmp_c\"].astype(float)\n",
    "# tmps_df[\"avg_yly_tmp_uncertainty\"]= tmps_df[\"avg_yly_tmp_uncertainty\"].\\\n",
    "#                                       astype(float)\n",
    "tmps_df[\"country\"]= tmps_df[\"country\"].apply(lambda x: x.upper())\n",
    "tmps_df.info()\n",
    "tmps_df.head(5)    "
   ]
  },
  {
   "cell_type": "code",
   "execution_count": 123,
   "metadata": {},
   "outputs": [
    {
     "name": "stdout",
     "output_type": "stream",
     "text": [
      "12783\n"
     ]
    },
    {
     "data": {
      "text/html": [
       "<div>\n",
       "<style>\n",
       "    .dataframe thead tr:only-child th {\n",
       "        text-align: right;\n",
       "    }\n",
       "\n",
       "    .dataframe thead th {\n",
       "        text-align: left;\n",
       "    }\n",
       "\n",
       "    .dataframe tbody tr th {\n",
       "        vertical-align: top;\n",
       "    }\n",
       "</style>\n",
       "<table border=\"1\" class=\"dataframe\">\n",
       "  <thead>\n",
       "    <tr style=\"text-align: right;\">\n",
       "      <th></th>\n",
       "      <th>year</th>\n",
       "      <th>country</th>\n",
       "      <th>co2</th>\n",
       "      <th>avg_yly_tmp_f</th>\n",
       "      <th>avg_yly_tmp_c</th>\n",
       "      <th>avg_yly_tmp_uncertainty</th>\n",
       "    </tr>\n",
       "  </thead>\n",
       "  <tbody>\n",
       "    <tr>\n",
       "      <th>0</th>\n",
       "      <td>1751-01-01</td>\n",
       "      <td>UNITED KINGDOM</td>\n",
       "      <td>2552</td>\n",
       "      <td>47.897375</td>\n",
       "      <td>8.831875</td>\n",
       "      <td>1.592250</td>\n",
       "    </tr>\n",
       "    <tr>\n",
       "      <th>1</th>\n",
       "      <td>1752-01-01</td>\n",
       "      <td>UNITED KINGDOM</td>\n",
       "      <td>2553</td>\n",
       "      <td>43.259300</td>\n",
       "      <td>6.255167</td>\n",
       "      <td>1.773833</td>\n",
       "    </tr>\n",
       "    <tr>\n",
       "      <th>2</th>\n",
       "      <td>1753-01-01</td>\n",
       "      <td>UNITED KINGDOM</td>\n",
       "      <td>2553</td>\n",
       "      <td>47.166950</td>\n",
       "      <td>8.426083</td>\n",
       "      <td>3.807083</td>\n",
       "    </tr>\n",
       "    <tr>\n",
       "      <th>3</th>\n",
       "      <td>1754-01-01</td>\n",
       "      <td>UNITED KINGDOM</td>\n",
       "      <td>2554</td>\n",
       "      <td>47.009900</td>\n",
       "      <td>8.338833</td>\n",
       "      <td>3.258917</td>\n",
       "    </tr>\n",
       "    <tr>\n",
       "      <th>4</th>\n",
       "      <td>1755-01-01</td>\n",
       "      <td>UNITED KINGDOM</td>\n",
       "      <td>2555</td>\n",
       "      <td>46.498700</td>\n",
       "      <td>8.054833</td>\n",
       "      <td>4.423917</td>\n",
       "    </tr>\n",
       "  </tbody>\n",
       "</table>\n",
       "</div>"
      ],
      "text/plain": [
       "        year         country   co2  avg_yly_tmp_f  avg_yly_tmp_c  \\\n",
       "0 1751-01-01  UNITED KINGDOM  2552      47.897375       8.831875   \n",
       "1 1752-01-01  UNITED KINGDOM  2553      43.259300       6.255167   \n",
       "2 1753-01-01  UNITED KINGDOM  2553      47.166950       8.426083   \n",
       "3 1754-01-01  UNITED KINGDOM  2554      47.009900       8.338833   \n",
       "4 1755-01-01  UNITED KINGDOM  2555      46.498700       8.054833   \n",
       "\n",
       "   avg_yly_tmp_uncertainty  \n",
       "0                 1.592250  \n",
       "1                 1.773833  \n",
       "2                 3.807083  \n",
       "3                 3.258917  \n",
       "4                 4.423917  "
      ]
     },
     "execution_count": 123,
     "metadata": {},
     "output_type": "execute_result"
    }
   ],
   "source": [
    "# Merge the two dataframes on the \"year\" and \"country\" fields\n",
    "\n",
    "co2_tmp_df = pd.merge(co2_df, tmps_df, on=([\"year\",\"country\"]),\\\n",
    "                      how=\"inner\", suffixes=(\"_x\", \"_y\"))\n",
    "print(len(co2_tmp_df.index))                     \n",
    "co2_tmp_df.head(5)"
   ]
  },
  {
   "cell_type": "code",
   "execution_count": 124,
   "metadata": {
    "collapsed": true
   },
   "outputs": [],
   "source": [
    "# Export file as an XLSX or CSV, w/o index, w/ header\n",
    "co2_tmp_df.to_csv(\"../output/co2_tmp_1.csv\", index=False, header=True)"
   ]
  },
  {
   "cell_type": "code",
   "execution_count": 125,
   "metadata": {},
   "outputs": [
    {
     "data": {
      "text/html": [
       "<div>\n",
       "<style>\n",
       "    .dataframe thead tr:only-child th {\n",
       "        text-align: right;\n",
       "    }\n",
       "\n",
       "    .dataframe thead th {\n",
       "        text-align: left;\n",
       "    }\n",
       "\n",
       "    .dataframe tbody tr th {\n",
       "        vertical-align: top;\n",
       "    }\n",
       "</style>\n",
       "<table border=\"1\" class=\"dataframe\">\n",
       "  <thead>\n",
       "    <tr style=\"text-align: right;\">\n",
       "      <th></th>\n",
       "      <th>country</th>\n",
       "      <th>count</th>\n",
       "    </tr>\n",
       "  </thead>\n",
       "  <tbody>\n",
       "    <tr>\n",
       "      <th>0</th>\n",
       "      <td>AFGHANISTAN</td>\n",
       "      <td>64</td>\n",
       "    </tr>\n",
       "    <tr>\n",
       "      <th>1</th>\n",
       "      <td>ALBANIA</td>\n",
       "      <td>80</td>\n",
       "    </tr>\n",
       "    <tr>\n",
       "      <th>2</th>\n",
       "      <td>ALGERIA</td>\n",
       "      <td>103</td>\n",
       "    </tr>\n",
       "    <tr>\n",
       "      <th>3</th>\n",
       "      <td>ANDORRA</td>\n",
       "      <td>23</td>\n",
       "    </tr>\n",
       "    <tr>\n",
       "      <th>4</th>\n",
       "      <td>ANGOLA</td>\n",
       "      <td>63</td>\n",
       "    </tr>\n",
       "  </tbody>\n",
       "</table>\n",
       "</div>"
      ],
      "text/plain": [
       "       country  count\n",
       "0  AFGHANISTAN     64\n",
       "1      ALBANIA     80\n",
       "2      ALGERIA    103\n",
       "3      ANDORRA     23\n",
       "4       ANGOLA     63"
      ]
     },
     "execution_count": 125,
     "metadata": {},
     "output_type": "execute_result"
    }
   ],
   "source": [
    "check_counts = co2_tmp_df.groupby([\"country\"],\\\n",
    "                as_index=False)[\"avg_yly_tmp_f\"].\\\n",
    "                count().rename(columns={\"avg_yly_tmp_f\":\"count\"})\n",
    "check_counts.head(5)"
   ]
  },
  {
   "cell_type": "code",
   "execution_count": 126,
   "metadata": {
    "collapsed": true
   },
   "outputs": [],
   "source": [
    "# Export file as an XLSX or CSV, w/o index, w/ header\n",
    "check_counts.to_excel(\"../output/check_counts.xlsx\",\\\n",
    "                    index=False, header=True)"
   ]
  },
  {
   "cell_type": "code",
   "execution_count": 127,
   "metadata": {},
   "outputs": [
    {
     "data": {
      "text/html": [
       "<div>\n",
       "<style>\n",
       "    .dataframe thead tr:only-child th {\n",
       "        text-align: right;\n",
       "    }\n",
       "\n",
       "    .dataframe thead th {\n",
       "        text-align: left;\n",
       "    }\n",
       "\n",
       "    .dataframe tbody tr th {\n",
       "        vertical-align: top;\n",
       "    }\n",
       "</style>\n",
       "<table border=\"1\" class=\"dataframe\">\n",
       "  <thead>\n",
       "    <tr style=\"text-align: right;\">\n",
       "      <th></th>\n",
       "      <th>co2</th>\n",
       "      <th>avg_yly_tmp_f</th>\n",
       "      <th>avg_yly_tmp_c</th>\n",
       "      <th>avg_yly_tmp_uncertainty</th>\n",
       "    </tr>\n",
       "  </thead>\n",
       "  <tbody>\n",
       "    <tr>\n",
       "      <th>0</th>\n",
       "      <td>2552</td>\n",
       "      <td>47.897375</td>\n",
       "      <td>8.831875</td>\n",
       "      <td>1.592250</td>\n",
       "    </tr>\n",
       "    <tr>\n",
       "      <th>1</th>\n",
       "      <td>2553</td>\n",
       "      <td>43.259300</td>\n",
       "      <td>6.255167</td>\n",
       "      <td>1.773833</td>\n",
       "    </tr>\n",
       "    <tr>\n",
       "      <th>2</th>\n",
       "      <td>2553</td>\n",
       "      <td>47.166950</td>\n",
       "      <td>8.426083</td>\n",
       "      <td>3.807083</td>\n",
       "    </tr>\n",
       "    <tr>\n",
       "      <th>3</th>\n",
       "      <td>2554</td>\n",
       "      <td>47.009900</td>\n",
       "      <td>8.338833</td>\n",
       "      <td>3.258917</td>\n",
       "    </tr>\n",
       "    <tr>\n",
       "      <th>4</th>\n",
       "      <td>2555</td>\n",
       "      <td>46.498700</td>\n",
       "      <td>8.054833</td>\n",
       "      <td>4.423917</td>\n",
       "    </tr>\n",
       "  </tbody>\n",
       "</table>\n",
       "</div>"
      ],
      "text/plain": [
       "    co2  avg_yly_tmp_f  avg_yly_tmp_c  avg_yly_tmp_uncertainty\n",
       "0  2552      47.897375       8.831875                 1.592250\n",
       "1  2553      43.259300       6.255167                 1.773833\n",
       "2  2553      47.166950       8.426083                 3.807083\n",
       "3  2554      47.009900       8.338833                 3.258917\n",
       "4  2555      46.498700       8.054833                 4.423917"
      ]
     },
     "execution_count": 127,
     "metadata": {},
     "output_type": "execute_result"
    }
   ],
   "source": [
    "# Create a dataframe of just numbers\n",
    "co2_tmp = co2_tmp_df[[\"co2\",\"avg_yly_tmp_f\",\"avg_yly_tmp_c\",\\\n",
    "                      \"avg_yly_tmp_uncertainty\"]]\n",
    "co2_tmp.head(5)"
   ]
  },
  {
   "cell_type": "code",
   "execution_count": 128,
   "metadata": {},
   "outputs": [
    {
     "data": {
      "text/html": [
       "<div>\n",
       "<style>\n",
       "    .dataframe thead tr:only-child th {\n",
       "        text-align: right;\n",
       "    }\n",
       "\n",
       "    .dataframe thead th {\n",
       "        text-align: left;\n",
       "    }\n",
       "\n",
       "    .dataframe tbody tr th {\n",
       "        vertical-align: top;\n",
       "    }\n",
       "</style>\n",
       "<table border=\"1\" class=\"dataframe\">\n",
       "  <thead>\n",
       "    <tr style=\"text-align: right;\">\n",
       "      <th></th>\n",
       "      <th>co2</th>\n",
       "      <th>avg_yly_tmp_f</th>\n",
       "      <th>avg_yly_tmp_c</th>\n",
       "      <th>avg_yly_tmp_uncertainty</th>\n",
       "    </tr>\n",
       "  </thead>\n",
       "  <tbody>\n",
       "    <tr>\n",
       "      <th>co2</th>\n",
       "      <td>1.000000</td>\n",
       "      <td>-0.143916</td>\n",
       "      <td>-0.143916</td>\n",
       "      <td>-0.131254</td>\n",
       "    </tr>\n",
       "    <tr>\n",
       "      <th>avg_yly_tmp_f</th>\n",
       "      <td>-0.143916</td>\n",
       "      <td>1.000000</td>\n",
       "      <td>1.000000</td>\n",
       "      <td>-0.369011</td>\n",
       "    </tr>\n",
       "    <tr>\n",
       "      <th>avg_yly_tmp_c</th>\n",
       "      <td>-0.143916</td>\n",
       "      <td>1.000000</td>\n",
       "      <td>1.000000</td>\n",
       "      <td>-0.369011</td>\n",
       "    </tr>\n",
       "    <tr>\n",
       "      <th>avg_yly_tmp_uncertainty</th>\n",
       "      <td>-0.131254</td>\n",
       "      <td>-0.369011</td>\n",
       "      <td>-0.369011</td>\n",
       "      <td>1.000000</td>\n",
       "    </tr>\n",
       "  </tbody>\n",
       "</table>\n",
       "</div>"
      ],
      "text/plain": [
       "                              co2  avg_yly_tmp_f  avg_yly_tmp_c  \\\n",
       "co2                      1.000000      -0.143916      -0.143916   \n",
       "avg_yly_tmp_f           -0.143916       1.000000       1.000000   \n",
       "avg_yly_tmp_c           -0.143916       1.000000       1.000000   \n",
       "avg_yly_tmp_uncertainty -0.131254      -0.369011      -0.369011   \n",
       "\n",
       "                         avg_yly_tmp_uncertainty  \n",
       "co2                                    -0.131254  \n",
       "avg_yly_tmp_f                          -0.369011  \n",
       "avg_yly_tmp_c                          -0.369011  \n",
       "avg_yly_tmp_uncertainty                 1.000000  "
      ]
     },
     "execution_count": 128,
     "metadata": {},
     "output_type": "execute_result"
    }
   ],
   "source": [
    "co2_tmp.corr()"
   ]
  },
  {
   "cell_type": "code",
   "execution_count": 130,
   "metadata": {},
   "outputs": [
    {
     "name": "stdout",
     "output_type": "stream",
     "text": [
      "161\n"
     ]
    },
    {
     "data": {
      "text/html": [
       "<div>\n",
       "<style>\n",
       "    .dataframe thead tr:only-child th {\n",
       "        text-align: right;\n",
       "    }\n",
       "\n",
       "    .dataframe thead th {\n",
       "        text-align: left;\n",
       "    }\n",
       "\n",
       "    .dataframe tbody tr th {\n",
       "        vertical-align: top;\n",
       "    }\n",
       "</style>\n",
       "<table border=\"1\" class=\"dataframe\">\n",
       "  <thead>\n",
       "    <tr style=\"text-align: right;\">\n",
       "      <th></th>\n",
       "      <th>year</th>\n",
       "      <th>country</th>\n",
       "      <th>co2</th>\n",
       "      <th>avg_yly_tmp_f</th>\n",
       "      <th>avg_yly_tmp_c</th>\n",
       "      <th>avg_yly_tmp_uncertainty</th>\n",
       "    </tr>\n",
       "  </thead>\n",
       "  <tbody>\n",
       "    <tr>\n",
       "      <th>0</th>\n",
       "      <td>1852-01-01</td>\n",
       "      <td>CANADA</td>\n",
       "      <td>23</td>\n",
       "      <td>22.35560</td>\n",
       "      <td>-5.358000</td>\n",
       "      <td>2.292583</td>\n",
       "    </tr>\n",
       "    <tr>\n",
       "      <th>1</th>\n",
       "      <td>1853-01-01</td>\n",
       "      <td>CANADA</td>\n",
       "      <td>28</td>\n",
       "      <td>21.93635</td>\n",
       "      <td>-5.590917</td>\n",
       "      <td>2.355750</td>\n",
       "    </tr>\n",
       "    <tr>\n",
       "      <th>2</th>\n",
       "      <td>1854-01-01</td>\n",
       "      <td>CANADA</td>\n",
       "      <td>34</td>\n",
       "      <td>22.01765</td>\n",
       "      <td>-5.545750</td>\n",
       "      <td>2.362167</td>\n",
       "    </tr>\n",
       "    <tr>\n",
       "      <th>3</th>\n",
       "      <td>1855-01-01</td>\n",
       "      <td>CANADA</td>\n",
       "      <td>41</td>\n",
       "      <td>21.59945</td>\n",
       "      <td>-5.778083</td>\n",
       "      <td>2.588333</td>\n",
       "    </tr>\n",
       "    <tr>\n",
       "      <th>4</th>\n",
       "      <td>1856-01-01</td>\n",
       "      <td>CANADA</td>\n",
       "      <td>49</td>\n",
       "      <td>22.16525</td>\n",
       "      <td>-5.463750</td>\n",
       "      <td>2.222167</td>\n",
       "    </tr>\n",
       "  </tbody>\n",
       "</table>\n",
       "</div>"
      ],
      "text/plain": [
       "        year country  co2  avg_yly_tmp_f  avg_yly_tmp_c  \\\n",
       "0 1852-01-01  CANADA   23       22.35560      -5.358000   \n",
       "1 1853-01-01  CANADA   28       21.93635      -5.590917   \n",
       "2 1854-01-01  CANADA   34       22.01765      -5.545750   \n",
       "3 1855-01-01  CANADA   41       21.59945      -5.778083   \n",
       "4 1856-01-01  CANADA   49       22.16525      -5.463750   \n",
       "\n",
       "   avg_yly_tmp_uncertainty  \n",
       "0                 2.292583  \n",
       "1                 2.355750  \n",
       "2                 2.362167  \n",
       "3                 2.588333  \n",
       "4                 2.222167  "
      ]
     },
     "execution_count": 130,
     "metadata": {},
     "output_type": "execute_result"
    }
   ],
   "source": [
    "# Need to do this in one step\n",
    "co2tmp1 = co2_tmp_df.loc[co2_tmp_df[\"country\"] == 'CANADA']\n",
    "co2tmp1 = co2tmp1.loc[co2_tmp_df[\"year\"]>= '1852-01-01'].\\\n",
    "                      reset_index(drop=True)\n",
    "print(len(co2tmp1.index))\n",
    "co2tmp1.head(5)"
   ]
  },
  {
   "cell_type": "code",
   "execution_count": 131,
   "metadata": {},
   "outputs": [
    {
     "name": "stdout",
     "output_type": "stream",
     "text": [
      "min year 1852-01-01 00:00:00 max year 2012-01-01 00:00:00\n"
     ]
    }
   ],
   "source": [
    "# Get the min and max date range\n",
    "co2tmp1_min_date = co2tmp1[\"year\"].min()\n",
    "co2tmp1_max_date = co2tmp1[\"year\"].max()\n",
    "print(\"min year \" + str(co2tmp1_min_date) + \" max year \" + \\\n",
    "      str(co2tmp1_max_date))"
   ]
  },
  {
   "cell_type": "code",
   "execution_count": 132,
   "metadata": {},
   "outputs": [
    {
     "data": {
      "text/html": [
       "<div>\n",
       "<style>\n",
       "    .dataframe thead tr:only-child th {\n",
       "        text-align: right;\n",
       "    }\n",
       "\n",
       "    .dataframe thead th {\n",
       "        text-align: left;\n",
       "    }\n",
       "\n",
       "    .dataframe tbody tr th {\n",
       "        vertical-align: top;\n",
       "    }\n",
       "</style>\n",
       "<table border=\"1\" class=\"dataframe\">\n",
       "  <thead>\n",
       "    <tr style=\"text-align: right;\">\n",
       "      <th></th>\n",
       "      <th>co2</th>\n",
       "      <th>avg_yly_tmp_f</th>\n",
       "      <th>avg_yly_tmp_c</th>\n",
       "      <th>avg_yly_tmp_uncertainty</th>\n",
       "    </tr>\n",
       "  </thead>\n",
       "  <tbody>\n",
       "    <tr>\n",
       "      <th>co2</th>\n",
       "      <td>1.000000</td>\n",
       "      <td>0.630241</td>\n",
       "      <td>0.630241</td>\n",
       "      <td>-0.721917</td>\n",
       "    </tr>\n",
       "    <tr>\n",
       "      <th>avg_yly_tmp_f</th>\n",
       "      <td>0.630241</td>\n",
       "      <td>1.000000</td>\n",
       "      <td>1.000000</td>\n",
       "      <td>-0.517373</td>\n",
       "    </tr>\n",
       "    <tr>\n",
       "      <th>avg_yly_tmp_c</th>\n",
       "      <td>0.630241</td>\n",
       "      <td>1.000000</td>\n",
       "      <td>1.000000</td>\n",
       "      <td>-0.517373</td>\n",
       "    </tr>\n",
       "    <tr>\n",
       "      <th>avg_yly_tmp_uncertainty</th>\n",
       "      <td>-0.721917</td>\n",
       "      <td>-0.517373</td>\n",
       "      <td>-0.517373</td>\n",
       "      <td>1.000000</td>\n",
       "    </tr>\n",
       "  </tbody>\n",
       "</table>\n",
       "</div>"
      ],
      "text/plain": [
       "                              co2  avg_yly_tmp_f  avg_yly_tmp_c  \\\n",
       "co2                      1.000000       0.630241       0.630241   \n",
       "avg_yly_tmp_f            0.630241       1.000000       1.000000   \n",
       "avg_yly_tmp_c            0.630241       1.000000       1.000000   \n",
       "avg_yly_tmp_uncertainty -0.721917      -0.517373      -0.517373   \n",
       "\n",
       "                         avg_yly_tmp_uncertainty  \n",
       "co2                                    -0.721917  \n",
       "avg_yly_tmp_f                          -0.517373  \n",
       "avg_yly_tmp_c                          -0.517373  \n",
       "avg_yly_tmp_uncertainty                 1.000000  "
      ]
     },
     "execution_count": 132,
     "metadata": {},
     "output_type": "execute_result"
    }
   ],
   "source": [
    "co2tmp1.corr()"
   ]
  },
  {
   "cell_type": "code",
   "execution_count": 133,
   "metadata": {},
   "outputs": [
    {
     "data": {
      "image/png": "[encoded data removed]",
      "text/plain": [
       "<matplotlib.figure.Figure at 0xd04b5c0>"
      ]
     },
     "metadata": {},
     "output_type": "display_data"
    }
   ],
   "source": [
    "from pandas.plotting import lag_plot\n",
    "from matplotlib.figure import Figure\n",
    "import matplotlib.pyplot as plt\n",
    "\n",
    "plt.figure()\n",
    "data = co2tmp1[\"co2\"]\n",
    "lag_plot(data)\n",
    "\n",
    "plt.tight_layout()\n",
    "plt.savefig(\"canada_lag-plot_co2.png\")\n",
    "plt.show()"
   ]
  },
  {
   "cell_type": "code",
   "execution_count": 134,
   "metadata": {},
   "outputs": [
    {
     "name": "stdout",
     "output_type": "stream",
     "text": [
      "161\n"
     ]
    },
    {
     "data": {
      "text/html": [
       "<div>\n",
       "<style>\n",
       "    .dataframe thead tr:only-child th {\n",
       "        text-align: right;\n",
       "    }\n",
       "\n",
       "    .dataframe thead th {\n",
       "        text-align: left;\n",
       "    }\n",
       "\n",
       "    .dataframe tbody tr th {\n",
       "        vertical-align: top;\n",
       "    }\n",
       "</style>\n",
       "<table border=\"1\" class=\"dataframe\">\n",
       "  <thead>\n",
       "    <tr style=\"text-align: right;\">\n",
       "      <th></th>\n",
       "      <th>year</th>\n",
       "      <th>country</th>\n",
       "      <th>co2</th>\n",
       "      <th>avg_yly_tmp_f</th>\n",
       "      <th>avg_yly_tmp_c</th>\n",
       "      <th>avg_yly_tmp_uncertainty</th>\n",
       "    </tr>\n",
       "  </thead>\n",
       "  <tbody>\n",
       "    <tr>\n",
       "      <th>0</th>\n",
       "      <td>1852-01-01</td>\n",
       "      <td>SPAIN</td>\n",
       "      <td>146</td>\n",
       "      <td>57.12065</td>\n",
       "      <td>13.955917</td>\n",
       "      <td>1.422000</td>\n",
       "    </tr>\n",
       "    <tr>\n",
       "      <th>1</th>\n",
       "      <td>1853-01-01</td>\n",
       "      <td>SPAIN</td>\n",
       "      <td>178</td>\n",
       "      <td>54.85115</td>\n",
       "      <td>12.695083</td>\n",
       "      <td>1.219000</td>\n",
       "    </tr>\n",
       "    <tr>\n",
       "      <th>2</th>\n",
       "      <td>1854-01-01</td>\n",
       "      <td>SPAIN</td>\n",
       "      <td>150</td>\n",
       "      <td>55.90355</td>\n",
       "      <td>13.279750</td>\n",
       "      <td>1.444500</td>\n",
       "    </tr>\n",
       "    <tr>\n",
       "      <th>3</th>\n",
       "      <td>1855-01-01</td>\n",
       "      <td>SPAIN</td>\n",
       "      <td>151</td>\n",
       "      <td>55.06265</td>\n",
       "      <td>12.812583</td>\n",
       "      <td>1.385250</td>\n",
       "    </tr>\n",
       "    <tr>\n",
       "      <th>4</th>\n",
       "      <td>1856-01-01</td>\n",
       "      <td>SPAIN</td>\n",
       "      <td>206</td>\n",
       "      <td>56.86910</td>\n",
       "      <td>13.816167</td>\n",
       "      <td>1.392833</td>\n",
       "    </tr>\n",
       "  </tbody>\n",
       "</table>\n",
       "</div>"
      ],
      "text/plain": [
       "        year country  co2  avg_yly_tmp_f  avg_yly_tmp_c  \\\n",
       "0 1852-01-01   SPAIN  146       57.12065      13.955917   \n",
       "1 1853-01-01   SPAIN  178       54.85115      12.695083   \n",
       "2 1854-01-01   SPAIN  150       55.90355      13.279750   \n",
       "3 1855-01-01   SPAIN  151       55.06265      12.812583   \n",
       "4 1856-01-01   SPAIN  206       56.86910      13.816167   \n",
       "\n",
       "   avg_yly_tmp_uncertainty  \n",
       "0                 1.422000  \n",
       "1                 1.219000  \n",
       "2                 1.444500  \n",
       "3                 1.385250  \n",
       "4                 1.392833  "
      ]
     },
     "execution_count": 134,
     "metadata": {},
     "output_type": "execute_result"
    }
   ],
   "source": [
    "co2tmp2 = co2_tmp_df.loc[co2_tmp_df[\"country\"] == 'SPAIN']\n",
    "co2tmp2 = co2tmp2.loc[co2_tmp_df[\"year\"]>= '1852-01-01'].\\\n",
    "                      reset_index(drop=True)\n",
    "print(len(co2tmp2.index))\n",
    "co2tmp2.head(5)"
   ]
  },
  {
   "cell_type": "code",
   "execution_count": 135,
   "metadata": {},
   "outputs": [
    {
     "name": "stdout",
     "output_type": "stream",
     "text": [
      "min year 1852-01-01 00:00:00 max year 2012-01-01 00:00:00\n"
     ]
    }
   ],
   "source": [
    "# Get the min and max date range\n",
    "co2tmp2_min_date = co2tmp2[\"year\"].min()\n",
    "co2tmp2_max_date = co2tmp2[\"year\"].max()\n",
    "print(\"min year \" + str(co2tmp2_min_date) + \" max year \" + \\\n",
    "      str(co2tmp2_max_date))"
   ]
  },
  {
   "cell_type": "code",
   "execution_count": 136,
   "metadata": {},
   "outputs": [
    {
     "data": {
      "text/html": [
       "<div>\n",
       "<style>\n",
       "    .dataframe thead tr:only-child th {\n",
       "        text-align: right;\n",
       "    }\n",
       "\n",
       "    .dataframe thead th {\n",
       "        text-align: left;\n",
       "    }\n",
       "\n",
       "    .dataframe tbody tr th {\n",
       "        vertical-align: top;\n",
       "    }\n",
       "</style>\n",
       "<table border=\"1\" class=\"dataframe\">\n",
       "  <thead>\n",
       "    <tr style=\"text-align: right;\">\n",
       "      <th></th>\n",
       "      <th>co2</th>\n",
       "      <th>avg_yly_tmp_f</th>\n",
       "      <th>avg_yly_tmp_c</th>\n",
       "      <th>avg_yly_tmp_uncertainty</th>\n",
       "    </tr>\n",
       "  </thead>\n",
       "  <tbody>\n",
       "    <tr>\n",
       "      <th>co2</th>\n",
       "      <td>1.000000</td>\n",
       "      <td>0.600382</td>\n",
       "      <td>0.600382</td>\n",
       "      <td>-0.550128</td>\n",
       "    </tr>\n",
       "    <tr>\n",
       "      <th>avg_yly_tmp_f</th>\n",
       "      <td>0.600382</td>\n",
       "      <td>1.000000</td>\n",
       "      <td>1.000000</td>\n",
       "      <td>-0.387093</td>\n",
       "    </tr>\n",
       "    <tr>\n",
       "      <th>avg_yly_tmp_c</th>\n",
       "      <td>0.600382</td>\n",
       "      <td>1.000000</td>\n",
       "      <td>1.000000</td>\n",
       "      <td>-0.387093</td>\n",
       "    </tr>\n",
       "    <tr>\n",
       "      <th>avg_yly_tmp_uncertainty</th>\n",
       "      <td>-0.550128</td>\n",
       "      <td>-0.387093</td>\n",
       "      <td>-0.387093</td>\n",
       "      <td>1.000000</td>\n",
       "    </tr>\n",
       "  </tbody>\n",
       "</table>\n",
       "</div>"
      ],
      "text/plain": [
       "                              co2  avg_yly_tmp_f  avg_yly_tmp_c  \\\n",
       "co2                      1.000000       0.600382       0.600382   \n",
       "avg_yly_tmp_f            0.600382       1.000000       1.000000   \n",
       "avg_yly_tmp_c            0.600382       1.000000       1.000000   \n",
       "avg_yly_tmp_uncertainty -0.550128      -0.387093      -0.387093   \n",
       "\n",
       "                         avg_yly_tmp_uncertainty  \n",
       "co2                                    -0.550128  \n",
       "avg_yly_tmp_f                          -0.387093  \n",
       "avg_yly_tmp_c                          -0.387093  \n",
       "avg_yly_tmp_uncertainty                 1.000000  "
      ]
     },
     "execution_count": 136,
     "metadata": {},
     "output_type": "execute_result"
    }
   ],
   "source": [
    "co2tmp2.corr()"
   ]
  },
  {
   "cell_type": "code",
   "execution_count": 137,
   "metadata": {},
   "outputs": [
    {
     "data": {
      "image/png": "[encoded data removed]",
      "text/plain": [
       "<matplotlib.figure.Figure at 0xc859630>"
      ]
     },
     "metadata": {},
     "output_type": "display_data"
    }
   ],
   "source": [
    "from pandas.plotting import lag_plot\n",
    "from matplotlib.figure import Figure\n",
    "import matplotlib.pyplot as plt\n",
    "\n",
    "plt.figure()\n",
    "data = co2tmp2[\"co2\"]\n",
    "lag_plot(data)\n",
    "\n",
    "plt.tight_layout()\n",
    "plt.savefig(\"spain_lag-plot_co2.png\")\n",
    "plt.show()"
   ]
  },
  {
   "cell_type": "code",
   "execution_count": 138,
   "metadata": {},
   "outputs": [
    {
     "name": "stdout",
     "output_type": "stream",
     "text": [
      "161\n"
     ]
    },
    {
     "data": {
      "text/html": [
       "<div>\n",
       "<style>\n",
       "    .dataframe thead tr:only-child th {\n",
       "        text-align: right;\n",
       "    }\n",
       "\n",
       "    .dataframe thead th {\n",
       "        text-align: left;\n",
       "    }\n",
       "\n",
       "    .dataframe tbody tr th {\n",
       "        vertical-align: top;\n",
       "    }\n",
       "</style>\n",
       "<table border=\"1\" class=\"dataframe\">\n",
       "  <thead>\n",
       "    <tr style=\"text-align: right;\">\n",
       "      <th></th>\n",
       "      <th>year</th>\n",
       "      <th>country</th>\n",
       "      <th>co2</th>\n",
       "      <th>avg_yly_tmp_f</th>\n",
       "      <th>avg_yly_tmp_c</th>\n",
       "      <th>avg_yly_tmp_uncertainty</th>\n",
       "    </tr>\n",
       "  </thead>\n",
       "  <tbody>\n",
       "    <tr>\n",
       "      <th>0</th>\n",
       "      <td>1852-01-01</td>\n",
       "      <td>AUSTRALIA</td>\n",
       "      <td>-15</td>\n",
       "      <td>68.339300</td>\n",
       "      <td>20.188500</td>\n",
       "      <td>1.529167</td>\n",
       "    </tr>\n",
       "    <tr>\n",
       "      <th>1</th>\n",
       "      <td>1853-01-01</td>\n",
       "      <td>AUSTRALIA</td>\n",
       "      <td>-30</td>\n",
       "      <td>69.724850</td>\n",
       "      <td>20.958250</td>\n",
       "      <td>1.459667</td>\n",
       "    </tr>\n",
       "    <tr>\n",
       "      <th>2</th>\n",
       "      <td>1854-01-01</td>\n",
       "      <td>AUSTRALIA</td>\n",
       "      <td>-35</td>\n",
       "      <td>68.512600</td>\n",
       "      <td>20.284778</td>\n",
       "      <td>1.491000</td>\n",
       "    </tr>\n",
       "    <tr>\n",
       "      <th>3</th>\n",
       "      <td>1855-01-01</td>\n",
       "      <td>AUSTRALIA</td>\n",
       "      <td>-36</td>\n",
       "      <td>69.437545</td>\n",
       "      <td>20.798636</td>\n",
       "      <td>1.526545</td>\n",
       "    </tr>\n",
       "    <tr>\n",
       "      <th>4</th>\n",
       "      <td>1856-01-01</td>\n",
       "      <td>AUSTRALIA</td>\n",
       "      <td>-50</td>\n",
       "      <td>70.067000</td>\n",
       "      <td>21.148333</td>\n",
       "      <td>1.693917</td>\n",
       "    </tr>\n",
       "  </tbody>\n",
       "</table>\n",
       "</div>"
      ],
      "text/plain": [
       "        year    country  co2  avg_yly_tmp_f  avg_yly_tmp_c  \\\n",
       "0 1852-01-01  AUSTRALIA  -15      68.339300      20.188500   \n",
       "1 1853-01-01  AUSTRALIA  -30      69.724850      20.958250   \n",
       "2 1854-01-01  AUSTRALIA  -35      68.512600      20.284778   \n",
       "3 1855-01-01  AUSTRALIA  -36      69.437545      20.798636   \n",
       "4 1856-01-01  AUSTRALIA  -50      70.067000      21.148333   \n",
       "\n",
       "   avg_yly_tmp_uncertainty  \n",
       "0                 1.529167  \n",
       "1                 1.459667  \n",
       "2                 1.491000  \n",
       "3                 1.526545  \n",
       "4                 1.693917  "
      ]
     },
     "execution_count": 138,
     "metadata": {},
     "output_type": "execute_result"
    }
   ],
   "source": [
    "co2tmp3 = co2_tmp_df.loc[co2_tmp_df[\"country\"] == 'AUSTRALIA'].\\\n",
    "                                    reset_index(drop=True)\n",
    "print(len(co2tmp3.index))\n",
    "co2tmp3.head(5)"
   ]
  },
  {
   "cell_type": "code",
   "execution_count": 139,
   "metadata": {},
   "outputs": [
    {
     "name": "stdout",
     "output_type": "stream",
     "text": [
      "min year 1852-01-01 00:00:00 max year 2012-01-01 00:00:00\n"
     ]
    }
   ],
   "source": [
    "# Get the min and max date range\n",
    "co2tmp3_min_date = co2tmp3[\"year\"].min()\n",
    "co2tmp3_max_date = co2tmp3[\"year\"].max()\n",
    "print(\"min year \" + str(co2tmp3_min_date) + \" max year \" + \\\n",
    "      str(co2tmp3_max_date))"
   ]
  },
  {
   "cell_type": "code",
   "execution_count": 140,
   "metadata": {},
   "outputs": [
    {
     "data": {
      "text/html": [
       "<div>\n",
       "<style>\n",
       "    .dataframe thead tr:only-child th {\n",
       "        text-align: right;\n",
       "    }\n",
       "\n",
       "    .dataframe thead th {\n",
       "        text-align: left;\n",
       "    }\n",
       "\n",
       "    .dataframe tbody tr th {\n",
       "        vertical-align: top;\n",
       "    }\n",
       "</style>\n",
       "<table border=\"1\" class=\"dataframe\">\n",
       "  <thead>\n",
       "    <tr style=\"text-align: right;\">\n",
       "      <th></th>\n",
       "      <th>co2</th>\n",
       "      <th>avg_yly_tmp_f</th>\n",
       "      <th>avg_yly_tmp_c</th>\n",
       "      <th>avg_yly_tmp_uncertainty</th>\n",
       "    </tr>\n",
       "  </thead>\n",
       "  <tbody>\n",
       "    <tr>\n",
       "      <th>co2</th>\n",
       "      <td>1.000000</td>\n",
       "      <td>0.676747</td>\n",
       "      <td>0.676747</td>\n",
       "      <td>-0.505111</td>\n",
       "    </tr>\n",
       "    <tr>\n",
       "      <th>avg_yly_tmp_f</th>\n",
       "      <td>0.676747</td>\n",
       "      <td>1.000000</td>\n",
       "      <td>1.000000</td>\n",
       "      <td>-0.473836</td>\n",
       "    </tr>\n",
       "    <tr>\n",
       "      <th>avg_yly_tmp_c</th>\n",
       "      <td>0.676747</td>\n",
       "      <td>1.000000</td>\n",
       "      <td>1.000000</td>\n",
       "      <td>-0.473836</td>\n",
       "    </tr>\n",
       "    <tr>\n",
       "      <th>avg_yly_tmp_uncertainty</th>\n",
       "      <td>-0.505111</td>\n",
       "      <td>-0.473836</td>\n",
       "      <td>-0.473836</td>\n",
       "      <td>1.000000</td>\n",
       "    </tr>\n",
       "  </tbody>\n",
       "</table>\n",
       "</div>"
      ],
      "text/plain": [
       "                              co2  avg_yly_tmp_f  avg_yly_tmp_c  \\\n",
       "co2                      1.000000       0.676747       0.676747   \n",
       "avg_yly_tmp_f            0.676747       1.000000       1.000000   \n",
       "avg_yly_tmp_c            0.676747       1.000000       1.000000   \n",
       "avg_yly_tmp_uncertainty -0.505111      -0.473836      -0.473836   \n",
       "\n",
       "                         avg_yly_tmp_uncertainty  \n",
       "co2                                    -0.505111  \n",
       "avg_yly_tmp_f                          -0.473836  \n",
       "avg_yly_tmp_c                          -0.473836  \n",
       "avg_yly_tmp_uncertainty                 1.000000  "
      ]
     },
     "execution_count": 140,
     "metadata": {},
     "output_type": "execute_result"
    }
   ],
   "source": [
    "co2tmp3.corr()"
   ]
  },
  {
   "cell_type": "code",
   "execution_count": 141,
   "metadata": {},
   "outputs": [
    {
     "data": {
      "image/png": "[encoded data removed]",
      "text/plain": [
       "<matplotlib.figure.Figure at 0xd0f3dd8>"
      ]
     },
     "metadata": {},
     "output_type": "display_data"
    }
   ],
   "source": [
    "from pandas.plotting import lag_plot\n",
    "from matplotlib.figure import Figure\n",
    "import matplotlib.pyplot as plt\n",
    "\n",
    "plt.figure()\n",
    "data = co2tmp3[\"co2\"]\n",
    "lag_plot(data)\n",
    "\n",
    "plt.tight_layout()\n",
    "plt.savefig(\"australia_lag-plot_co2.png\")\n",
    "plt.show()"
   ]
  },
  {
   "cell_type": "code",
   "execution_count": 160,
   "metadata": {},
   "outputs": [
    {
     "data": {
      "image/png": "[encoded data removed]",
      "text/plain": [
       "<matplotlib.figure.Figure at 0xd05d5f8>"
      ]
     },
     "metadata": {},
     "output_type": "display_data"
    }
   ],
   "source": [
    "# Dependencies\n",
    "from matplotlib.figure import Figure\n",
    "import matplotlib.pyplot as plt\n",
    "import pandas as pd\n",
    "import numpy as np\n",
    "import datetime as dt\n",
    "from datetime import datetime, date, time\n",
    "import matplotlib.dates as mdates\n",
    "\n",
    "fig = plt.figure(figsize=(12,10))\n",
    "ax = fig.add_subplot(111)\n",
    "\n",
    "x_axis = co2tmp1[\"year\"]  \n",
    "y1_axis = co2tmp1[\"co2\"]\n",
    "y2_axis = co2tmp2[\"co2\"]\n",
    "y3_axis = co2tmp3[\"co2\"]\n",
    "\n",
    "\n",
    "ax.set_title(\"Canada/Spain/Australia co2 by Year\",\\\n",
    "             weight='bold').set_fontsize('18')\n",
    "ax.set_xlabel(\"Year\", weight='bold').set_fontsize('14')\n",
    "ax.set_ylabel(\"co2\", weight='bold').set_fontsize('14')\n",
    "\n",
    "\n",
    "ax.grid(True)\n",
    "ax.set_facecolor(\"whitesmoke\")\n",
    "fig.autofmt_xdate(rotation=45, ha='right')\n",
    "\n",
    "ax.plot(x_axis, y1_axis, color=\"red\", linewidth= 1)\n",
    "ax.plot(x_axis, y2_axis, color=\"green\", linewidth= 1)\n",
    "ax.plot(x_axis, y3_axis, color=\"blue\", linewidth= 1)\n",
    "\n",
    "ax.legend([\"Canada co2\",\"Spain co2\",\"Australia co2\"],\n",
    "          loc=\"best\",bbox_to_anchor=(1, 0.5))\n",
    "\n",
    "plt.tight_layout()\n",
    "plt.savefig(\"canada_spain_australia_yearly_co2_chart.png\")\n",
    "plt.show()"
   ]
  },
  {
   "cell_type": "code",
   "execution_count": null,
   "metadata": {
    "collapsed": true
   },
   "outputs": [],
   "source": []
  }
 ],
 "metadata": {
  "kernelspec": {
   "display_name": "Python 3",
   "language": "python",
   "name": "python3"
  },
  "language_info": {
   "codemirror_mode": {
    "name": "ipython",
    "version": 3
   },
   "file_extension": ".py",
   "mimetype": "text/x-python",
   "name": "python",
   "nbconvert_exporter": "python",
   "pygments_lexer": "ipython3",
   "version": "3.6.1"
  }
 },
 "nbformat": 4,
 "nbformat_minor": 2
}
