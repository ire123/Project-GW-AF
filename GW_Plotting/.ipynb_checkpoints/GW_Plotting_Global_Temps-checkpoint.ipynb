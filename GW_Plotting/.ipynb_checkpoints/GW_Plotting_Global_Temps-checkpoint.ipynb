{
 "cells": [
  {
   "cell_type": "code",
   "execution_count": 2,
   "metadata": {
    "collapsed": true
   },
   "outputs": [],
   "source": [
    "import pandas as pd\n",
    "import numpy as np\n",
    "import scipy as sp"
   ]
  },
  {
   "cell_type": "code",
   "execution_count": 3,
   "metadata": {},
   "outputs": [
    {
     "name": "stdout",
     "output_type": "stream",
     "text": [
      "<class 'pandas.core.frame.DataFrame'>\n",
      "RangeIndex: 1992 entries, 0 to 1991\n",
      "Data columns (total 13 columns):\n",
      "date                             1992 non-null object\n",
      "land_avg_temp_f                  1992 non-null float64\n",
      "land_avg_temp_c                  1992 non-null float64\n",
      "land_avg_temp_uncertain          1992 non-null float64\n",
      "land_max_temp_f                  1992 non-null float64\n",
      "land_max_temp_c                  1992 non-null float64\n",
      "land_max_temp_uncertain          1992 non-null float64\n",
      "land_min_temp_f                  1992 non-null float64\n",
      "land_min_temp_c                  1992 non-null float64\n",
      "land_min_temp_uncertain          1992 non-null float64\n",
      "land_ocean_avg_temp_f            1992 non-null float64\n",
      "land_ocean_avg_temp_c            1992 non-null float64\n",
      "land_ocean_avg_temp_uncertain    1992 non-null float64\n",
      "dtypes: float64(12), object(1)\n",
      "memory usage: 202.4+ KB\n",
      "1992\n"
     ]
    }
   ],
   "source": [
    "# Store filepath in a variable: use parse_dates=[\"date\"] \n",
    "# encoding=\"ISO-8859-1\"\n",
    "gllo = \"./data/clean/clean_GlobalLandOceanTemps.csv\"\n",
    "\n",
    "# Read our Data file with the pandas library\n",
    "gllo_df = pd.read_csv(gllo)\n",
    "print(len(gllo_df.index))\n",
    "gllo_df.info()"
   ]
  },
  {
   "cell_type": "code",
   "execution_count": null,
   "metadata": {
    "collapsed": true
   },
   "outputs": [],
   "source": []
  }
 ],
 "metadata": {
  "kernelspec": {
   "display_name": "Python 3",
   "language": "python",
   "name": "python3"
  },
  "language_info": {
   "codemirror_mode": {
    "name": "ipython",
    "version": 3
   },
   "file_extension": ".py",
   "mimetype": "text/x-python",
   "name": "python",
   "nbconvert_exporter": "python",
   "pygments_lexer": "ipython3",
   "version": "3.6.1"
  }
 },
 "nbformat": 4,
 "nbformat_minor": 2
}
